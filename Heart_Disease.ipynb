{
  "nbformat": 4,
  "nbformat_minor": 0,
  "metadata": {
    "colab": {
      "provenance": [],
      "authorship_tag": "ABX9TyOa80oIxcrwEkdAL7+gXaG8",
      "include_colab_link": true
    },
    "kernelspec": {
      "name": "python3",
      "display_name": "Python 3"
    },
    "language_info": {
      "name": "python"
    }
  },
  "cells": [
    {
      "cell_type": "markdown",
      "metadata": {
        "id": "view-in-github",
        "colab_type": "text"
      },
      "source": [
        "<a href=\"https://colab.research.google.com/github/WardaAli-00/Programming-For-Ai-Assignment/blob/main/Heart_Disease.ipynb\" target=\"_parent\"><img src=\"https://colab.research.google.com/assets/colab-badge.svg\" alt=\"Open In Colab\"/></a>"
      ]
    },
    {
      "cell_type": "code",
      "execution_count": null,
      "metadata": {
        "id": "eTrzYV5ucjsz"
      },
      "outputs": [],
      "source": [
        "import pandas as pd\n",
        "import numpy as np\n",
        "from sklearn.model_selection import train_test_split, cross_val_score, StratifiedKFold\n",
        "from sklearn.preprocessing import MinMaxScaler\n",
        "from sklearn.metrics import accuracy_score, precision_score, recall_score, f1_score\n",
        "from sklearn.neighbors import KNeighborsClassifier\n",
        "from sklearn.svm import SVC\n",
        "from sklearn.naive_bayes import GaussianNB\n",
        "from sklearn.ensemble import RandomForestClassifier, GradientBoostingClassifier\n",
        "from sklearn.linear_model import LogisticRegression"
      ]
    },
    {
      "cell_type": "code",
      "source": [
        "url = \"https://archive.ics.uci.edu/ml/machine-learning-databases/heart-disease/processed.cleveland.data\"\n",
        "column_names = [\n",
        "    \"age\", \"sex\", \"cp\", \"trestbps\", \"chol\", \"fbs\", \"restecg\", \"thalach\", \"exang\", \"oldpeak\", \"slope\", \"ca\", \"thal\", \"target\"\n",
        "]\n",
        "data = pd.read_csv(url, names=column_names, na_values=\"?\")"
      ],
      "metadata": {
        "id": "6Kp92TV7cp0q"
      },
      "execution_count": null,
      "outputs": []
    },
    {
      "cell_type": "code",
      "source": [
        "# Handle missing values (remove rows with NaNs)\n",
        "data.dropna(inplace=True)"
      ],
      "metadata": {
        "id": "SxrCigD-cwd5"
      },
      "execution_count": null,
      "outputs": []
    },
    {
      "cell_type": "code",
      "source": [
        "# Features and target\n",
        "X = X[X.index.isin(y.index)] # Keep only the indices that are present in both X and y\n",
        "y = y[y.index.isin(X.index)] #   # Reclassify target as binary (0, 1)\n"
      ],
      "metadata": {
        "id": "NlJm6GZbcz-D"
      },
      "execution_count": null,
      "outputs": []
    },
    {
      "cell_type": "code",
      "source": [
        "# Normalize the features\n",
        "scaler = MinMaxScaler()\n",
        "X_scaled = scaler.fit_transform(X)"
      ],
      "metadata": {
        "id": "peRMzoDtc5KF"
      },
      "execution_count": null,
      "outputs": []
    },
    {
      "cell_type": "code",
      "source": [
        "# Initialize classifiers\n",
        "classifiers = {\n",
        "    \"KNN\": KNeighborsClassifier(n_neighbors=5),\n",
        "    \"SVM\": SVC(kernel=\"linear\", probability=True),\n",
        "    \"Naive Bayes\": GaussianNB(),\n",
        "    \"Random Forest\": RandomForestClassifier(n_estimators=100, random_state=42),\n",
        "    \"Logistic Regression\": LogisticRegression(max_iter=1000),\n",
        "    \"Gradient Boosting\": GradientBoostingClassifier(random_state=42)\n",
        "}"
      ],
      "metadata": {
        "id": "10JeDqnNc9te"
      },
      "execution_count": null,
      "outputs": []
    },
    {
      "cell_type": "code",
      "source": [
        "# Evaluation function\n",
        "def evaluate_model(model, X, y, cv_folds):\n",
        "    skf = StratifiedKFold(n_splits=cv_folds, shuffle=True, random_state=42)\n",
        "    accuracy = cross_val_score(model, X, y, cv=skf, scoring='accuracy').mean()\n",
        "    precision = cross_val_score(model, X, y, cv=skf, scoring='precision').mean()\n",
        "    recall = cross_val_score(model, X, y, cv=skf, scoring='recall').mean()\n",
        "    f1 = cross_val_score(model, X, y, cv=skf, scoring='f1').mean()\n",
        "    return accuracy, precision, recall, f1"
      ],
      "metadata": {
        "id": "N0rm5Bqlc_X7"
      },
      "execution_count": null,
      "outputs": []
    },
    {
      "cell_type": "code",
      "source": [
        "# Cross-validation results\n",
        "results = []\n",
        "for name, clf in classifiers.items():\n",
        "    for folds in [5, 10]:\n",
        "        accuracy, precision, recall, f1 = evaluate_model(clf, X_scaled, y, cv_folds=folds)\n",
        "        results.append({\n",
        "            \"Model\": name,\n",
        "            \"Folds\": folds,\n",
        "            \"Accuracy (%)\": round(accuracy * 100, 2),\n",
        "            \"Precision (%)\": round(precision * 100, 2),\n",
        "            \"Recall (%)\": round(recall * 100, 2),\n",
        "            \"F1 Score (%)\": round(f1 * 100, 2)\n",
        "        })\n"
      ],
      "metadata": {
        "id": "XN3i_s24dCHO",
        "colab": {
          "base_uri": "https://localhost:8080/",
          "height": 965
        },
        "outputId": "db43b442-70c0-486b-fcff-bd8ffdc20174"
      },
      "execution_count": null,
      "outputs": [
        {
          "output_type": "error",
          "ename": "ValueError",
          "evalue": "\nAll the 5 fits failed.\nIt is very likely that your model is misconfigured.\nYou can try to debug the error by setting error_score='raise'.\n\nBelow are more details about the failures:\n--------------------------------------------------------------------------------\n5 fits failed with the following error:\nTraceback (most recent call last):\n  File \"/usr/local/lib/python3.10/dist-packages/sklearn/model_selection/_validation.py\", line 888, in _fit_and_score\n    estimator.fit(X_train, y_train, **fit_params)\n  File \"/usr/local/lib/python3.10/dist-packages/sklearn/base.py\", line 1473, in wrapper\n    return fit_method(estimator, *args, **kwargs)\n  File \"/usr/local/lib/python3.10/dist-packages/sklearn/neighbors/_classification.py\", line 238, in fit\n    return self._fit(X, y)\n  File \"/usr/local/lib/python3.10/dist-packages/sklearn/neighbors/_base.py\", line 475, in _fit\n    X, y = self._validate_data(\n  File \"/usr/local/lib/python3.10/dist-packages/sklearn/base.py\", line 650, in _validate_data\n    X, y = check_X_y(X, y, **check_params)\n  File \"/usr/local/lib/python3.10/dist-packages/sklearn/utils/validation.py\", line 1301, in check_X_y\n    X = check_array(\n  File \"/usr/local/lib/python3.10/dist-packages/sklearn/utils/validation.py\", line 1064, in check_array\n    _assert_all_finite(\n  File \"/usr/local/lib/python3.10/dist-packages/sklearn/utils/validation.py\", line 123, in _assert_all_finite\n    _assert_all_finite_element_wise(\n  File \"/usr/local/lib/python3.10/dist-packages/sklearn/utils/validation.py\", line 172, in _assert_all_finite_element_wise\n    raise ValueError(msg_err)\nValueError: Input X contains NaN.\nKNeighborsClassifier does not accept missing values encoded as NaN natively. For supervised learning, you might want to consider sklearn.ensemble.HistGradientBoostingClassifier and Regressor which accept missing values encoded as NaNs natively. Alternatively, it is possible to preprocess the data, for instance by using an imputer transformer in a pipeline or drop samples with missing values. See https://scikit-learn.org/stable/modules/impute.html You can find a list of all estimators that handle NaN values at the following page: https://scikit-learn.org/stable/modules/impute.html#estimators-that-handle-nan-values\n",
          "traceback": [
            "\u001b[0;31m---------------------------------------------------------------------------\u001b[0m",
            "\u001b[0;31mValueError\u001b[0m                                Traceback (most recent call last)",
            "\u001b[0;32m<ipython-input-30-8ebc4652bb62>\u001b[0m in \u001b[0;36m<cell line: 3>\u001b[0;34m()\u001b[0m\n\u001b[1;32m      3\u001b[0m \u001b[0;32mfor\u001b[0m \u001b[0mname\u001b[0m\u001b[0;34m,\u001b[0m \u001b[0mclf\u001b[0m \u001b[0;32min\u001b[0m \u001b[0mclassifiers\u001b[0m\u001b[0;34m.\u001b[0m\u001b[0mitems\u001b[0m\u001b[0;34m(\u001b[0m\u001b[0;34m)\u001b[0m\u001b[0;34m:\u001b[0m\u001b[0;34m\u001b[0m\u001b[0;34m\u001b[0m\u001b[0m\n\u001b[1;32m      4\u001b[0m     \u001b[0;32mfor\u001b[0m \u001b[0mfolds\u001b[0m \u001b[0;32min\u001b[0m \u001b[0;34m[\u001b[0m\u001b[0;36m5\u001b[0m\u001b[0;34m,\u001b[0m \u001b[0;36m10\u001b[0m\u001b[0;34m]\u001b[0m\u001b[0;34m:\u001b[0m\u001b[0;34m\u001b[0m\u001b[0;34m\u001b[0m\u001b[0m\n\u001b[0;32m----> 5\u001b[0;31m         \u001b[0maccuracy\u001b[0m\u001b[0;34m,\u001b[0m \u001b[0mprecision\u001b[0m\u001b[0;34m,\u001b[0m \u001b[0mrecall\u001b[0m\u001b[0;34m,\u001b[0m \u001b[0mf1\u001b[0m \u001b[0;34m=\u001b[0m \u001b[0mevaluate_model\u001b[0m\u001b[0;34m(\u001b[0m\u001b[0mclf\u001b[0m\u001b[0;34m,\u001b[0m \u001b[0mX_scaled\u001b[0m\u001b[0;34m,\u001b[0m \u001b[0my\u001b[0m\u001b[0;34m,\u001b[0m \u001b[0mcv_folds\u001b[0m\u001b[0;34m=\u001b[0m\u001b[0mfolds\u001b[0m\u001b[0;34m)\u001b[0m\u001b[0;34m\u001b[0m\u001b[0;34m\u001b[0m\u001b[0m\n\u001b[0m\u001b[1;32m      6\u001b[0m         results.append({\n\u001b[1;32m      7\u001b[0m             \u001b[0;34m\"Model\"\u001b[0m\u001b[0;34m:\u001b[0m \u001b[0mname\u001b[0m\u001b[0;34m,\u001b[0m\u001b[0;34m\u001b[0m\u001b[0;34m\u001b[0m\u001b[0m\n",
            "\u001b[0;32m<ipython-input-23-45428ecb4e0b>\u001b[0m in \u001b[0;36mevaluate_model\u001b[0;34m(model, X, y, cv_folds)\u001b[0m\n\u001b[1;32m      2\u001b[0m \u001b[0;32mdef\u001b[0m \u001b[0mevaluate_model\u001b[0m\u001b[0;34m(\u001b[0m\u001b[0mmodel\u001b[0m\u001b[0;34m,\u001b[0m \u001b[0mX\u001b[0m\u001b[0;34m,\u001b[0m \u001b[0my\u001b[0m\u001b[0;34m,\u001b[0m \u001b[0mcv_folds\u001b[0m\u001b[0;34m)\u001b[0m\u001b[0;34m:\u001b[0m\u001b[0;34m\u001b[0m\u001b[0;34m\u001b[0m\u001b[0m\n\u001b[1;32m      3\u001b[0m     \u001b[0mskf\u001b[0m \u001b[0;34m=\u001b[0m \u001b[0mStratifiedKFold\u001b[0m\u001b[0;34m(\u001b[0m\u001b[0mn_splits\u001b[0m\u001b[0;34m=\u001b[0m\u001b[0mcv_folds\u001b[0m\u001b[0;34m,\u001b[0m \u001b[0mshuffle\u001b[0m\u001b[0;34m=\u001b[0m\u001b[0;32mTrue\u001b[0m\u001b[0;34m,\u001b[0m \u001b[0mrandom_state\u001b[0m\u001b[0;34m=\u001b[0m\u001b[0;36m42\u001b[0m\u001b[0;34m)\u001b[0m\u001b[0;34m\u001b[0m\u001b[0;34m\u001b[0m\u001b[0m\n\u001b[0;32m----> 4\u001b[0;31m     \u001b[0maccuracy\u001b[0m \u001b[0;34m=\u001b[0m \u001b[0mcross_val_score\u001b[0m\u001b[0;34m(\u001b[0m\u001b[0mmodel\u001b[0m\u001b[0;34m,\u001b[0m \u001b[0mX\u001b[0m\u001b[0;34m,\u001b[0m \u001b[0my\u001b[0m\u001b[0;34m,\u001b[0m \u001b[0mcv\u001b[0m\u001b[0;34m=\u001b[0m\u001b[0mskf\u001b[0m\u001b[0;34m,\u001b[0m \u001b[0mscoring\u001b[0m\u001b[0;34m=\u001b[0m\u001b[0;34m'accuracy'\u001b[0m\u001b[0;34m)\u001b[0m\u001b[0;34m.\u001b[0m\u001b[0mmean\u001b[0m\u001b[0;34m(\u001b[0m\u001b[0;34m)\u001b[0m\u001b[0;34m\u001b[0m\u001b[0;34m\u001b[0m\u001b[0m\n\u001b[0m\u001b[1;32m      5\u001b[0m     \u001b[0mprecision\u001b[0m \u001b[0;34m=\u001b[0m \u001b[0mcross_val_score\u001b[0m\u001b[0;34m(\u001b[0m\u001b[0mmodel\u001b[0m\u001b[0;34m,\u001b[0m \u001b[0mX\u001b[0m\u001b[0;34m,\u001b[0m \u001b[0my\u001b[0m\u001b[0;34m,\u001b[0m \u001b[0mcv\u001b[0m\u001b[0;34m=\u001b[0m\u001b[0mskf\u001b[0m\u001b[0;34m,\u001b[0m \u001b[0mscoring\u001b[0m\u001b[0;34m=\u001b[0m\u001b[0;34m'precision'\u001b[0m\u001b[0;34m)\u001b[0m\u001b[0;34m.\u001b[0m\u001b[0mmean\u001b[0m\u001b[0;34m(\u001b[0m\u001b[0;34m)\u001b[0m\u001b[0;34m\u001b[0m\u001b[0;34m\u001b[0m\u001b[0m\n\u001b[1;32m      6\u001b[0m     \u001b[0mrecall\u001b[0m \u001b[0;34m=\u001b[0m \u001b[0mcross_val_score\u001b[0m\u001b[0;34m(\u001b[0m\u001b[0mmodel\u001b[0m\u001b[0;34m,\u001b[0m \u001b[0mX\u001b[0m\u001b[0;34m,\u001b[0m \u001b[0my\u001b[0m\u001b[0;34m,\u001b[0m \u001b[0mcv\u001b[0m\u001b[0;34m=\u001b[0m\u001b[0mskf\u001b[0m\u001b[0;34m,\u001b[0m \u001b[0mscoring\u001b[0m\u001b[0;34m=\u001b[0m\u001b[0;34m'recall'\u001b[0m\u001b[0;34m)\u001b[0m\u001b[0;34m.\u001b[0m\u001b[0mmean\u001b[0m\u001b[0;34m(\u001b[0m\u001b[0;34m)\u001b[0m\u001b[0;34m\u001b[0m\u001b[0;34m\u001b[0m\u001b[0m\n",
            "\u001b[0;32m/usr/local/lib/python3.10/dist-packages/sklearn/utils/_param_validation.py\u001b[0m in \u001b[0;36mwrapper\u001b[0;34m(*args, **kwargs)\u001b[0m\n\u001b[1;32m    211\u001b[0m                     )\n\u001b[1;32m    212\u001b[0m                 ):\n\u001b[0;32m--> 213\u001b[0;31m                     \u001b[0;32mreturn\u001b[0m \u001b[0mfunc\u001b[0m\u001b[0;34m(\u001b[0m\u001b[0;34m*\u001b[0m\u001b[0margs\u001b[0m\u001b[0;34m,\u001b[0m \u001b[0;34m**\u001b[0m\u001b[0mkwargs\u001b[0m\u001b[0;34m)\u001b[0m\u001b[0;34m\u001b[0m\u001b[0;34m\u001b[0m\u001b[0m\n\u001b[0m\u001b[1;32m    214\u001b[0m             \u001b[0;32mexcept\u001b[0m \u001b[0mInvalidParameterError\u001b[0m \u001b[0;32mas\u001b[0m \u001b[0me\u001b[0m\u001b[0;34m:\u001b[0m\u001b[0;34m\u001b[0m\u001b[0;34m\u001b[0m\u001b[0m\n\u001b[1;32m    215\u001b[0m                 \u001b[0;31m# When the function is just a wrapper around an estimator, we allow\u001b[0m\u001b[0;34m\u001b[0m\u001b[0;34m\u001b[0m\u001b[0m\n",
            "\u001b[0;32m/usr/local/lib/python3.10/dist-packages/sklearn/model_selection/_validation.py\u001b[0m in \u001b[0;36mcross_val_score\u001b[0;34m(estimator, X, y, groups, scoring, cv, n_jobs, verbose, fit_params, params, pre_dispatch, error_score)\u001b[0m\n\u001b[1;32m    710\u001b[0m     \u001b[0mscorer\u001b[0m \u001b[0;34m=\u001b[0m \u001b[0mcheck_scoring\u001b[0m\u001b[0;34m(\u001b[0m\u001b[0mestimator\u001b[0m\u001b[0;34m,\u001b[0m \u001b[0mscoring\u001b[0m\u001b[0;34m=\u001b[0m\u001b[0mscoring\u001b[0m\u001b[0;34m)\u001b[0m\u001b[0;34m\u001b[0m\u001b[0;34m\u001b[0m\u001b[0m\n\u001b[1;32m    711\u001b[0m \u001b[0;34m\u001b[0m\u001b[0m\n\u001b[0;32m--> 712\u001b[0;31m     cv_results = cross_validate(\n\u001b[0m\u001b[1;32m    713\u001b[0m         \u001b[0mestimator\u001b[0m\u001b[0;34m=\u001b[0m\u001b[0mestimator\u001b[0m\u001b[0;34m,\u001b[0m\u001b[0;34m\u001b[0m\u001b[0;34m\u001b[0m\u001b[0m\n\u001b[1;32m    714\u001b[0m         \u001b[0mX\u001b[0m\u001b[0;34m=\u001b[0m\u001b[0mX\u001b[0m\u001b[0;34m,\u001b[0m\u001b[0;34m\u001b[0m\u001b[0;34m\u001b[0m\u001b[0m\n",
            "\u001b[0;32m/usr/local/lib/python3.10/dist-packages/sklearn/utils/_param_validation.py\u001b[0m in \u001b[0;36mwrapper\u001b[0;34m(*args, **kwargs)\u001b[0m\n\u001b[1;32m    211\u001b[0m                     )\n\u001b[1;32m    212\u001b[0m                 ):\n\u001b[0;32m--> 213\u001b[0;31m                     \u001b[0;32mreturn\u001b[0m \u001b[0mfunc\u001b[0m\u001b[0;34m(\u001b[0m\u001b[0;34m*\u001b[0m\u001b[0margs\u001b[0m\u001b[0;34m,\u001b[0m \u001b[0;34m**\u001b[0m\u001b[0mkwargs\u001b[0m\u001b[0;34m)\u001b[0m\u001b[0;34m\u001b[0m\u001b[0;34m\u001b[0m\u001b[0m\n\u001b[0m\u001b[1;32m    214\u001b[0m             \u001b[0;32mexcept\u001b[0m \u001b[0mInvalidParameterError\u001b[0m \u001b[0;32mas\u001b[0m \u001b[0me\u001b[0m\u001b[0;34m:\u001b[0m\u001b[0;34m\u001b[0m\u001b[0;34m\u001b[0m\u001b[0m\n\u001b[1;32m    215\u001b[0m                 \u001b[0;31m# When the function is just a wrapper around an estimator, we allow\u001b[0m\u001b[0;34m\u001b[0m\u001b[0;34m\u001b[0m\u001b[0m\n",
            "\u001b[0;32m/usr/local/lib/python3.10/dist-packages/sklearn/model_selection/_validation.py\u001b[0m in \u001b[0;36mcross_validate\u001b[0;34m(estimator, X, y, groups, scoring, cv, n_jobs, verbose, fit_params, params, pre_dispatch, return_train_score, return_estimator, return_indices, error_score)\u001b[0m\n\u001b[1;32m    441\u001b[0m     )\n\u001b[1;32m    442\u001b[0m \u001b[0;34m\u001b[0m\u001b[0m\n\u001b[0;32m--> 443\u001b[0;31m     \u001b[0m_warn_or_raise_about_fit_failures\u001b[0m\u001b[0;34m(\u001b[0m\u001b[0mresults\u001b[0m\u001b[0;34m,\u001b[0m \u001b[0merror_score\u001b[0m\u001b[0;34m)\u001b[0m\u001b[0;34m\u001b[0m\u001b[0;34m\u001b[0m\u001b[0m\n\u001b[0m\u001b[1;32m    444\u001b[0m \u001b[0;34m\u001b[0m\u001b[0m\n\u001b[1;32m    445\u001b[0m     \u001b[0;31m# For callable scoring, the return type is only know after calling. If the\u001b[0m\u001b[0;34m\u001b[0m\u001b[0;34m\u001b[0m\u001b[0m\n",
            "\u001b[0;32m/usr/local/lib/python3.10/dist-packages/sklearn/model_selection/_validation.py\u001b[0m in \u001b[0;36m_warn_or_raise_about_fit_failures\u001b[0;34m(results, error_score)\u001b[0m\n\u001b[1;32m    527\u001b[0m                 \u001b[0;34mf\"Below are more details about the failures:\\n{fit_errors_summary}\"\u001b[0m\u001b[0;34m\u001b[0m\u001b[0;34m\u001b[0m\u001b[0m\n\u001b[1;32m    528\u001b[0m             )\n\u001b[0;32m--> 529\u001b[0;31m             \u001b[0;32mraise\u001b[0m \u001b[0mValueError\u001b[0m\u001b[0;34m(\u001b[0m\u001b[0mall_fits_failed_message\u001b[0m\u001b[0;34m)\u001b[0m\u001b[0;34m\u001b[0m\u001b[0;34m\u001b[0m\u001b[0m\n\u001b[0m\u001b[1;32m    530\u001b[0m \u001b[0;34m\u001b[0m\u001b[0m\n\u001b[1;32m    531\u001b[0m         \u001b[0;32melse\u001b[0m\u001b[0;34m:\u001b[0m\u001b[0;34m\u001b[0m\u001b[0;34m\u001b[0m\u001b[0m\n",
            "\u001b[0;31mValueError\u001b[0m: \nAll the 5 fits failed.\nIt is very likely that your model is misconfigured.\nYou can try to debug the error by setting error_score='raise'.\n\nBelow are more details about the failures:\n--------------------------------------------------------------------------------\n5 fits failed with the following error:\nTraceback (most recent call last):\n  File \"/usr/local/lib/python3.10/dist-packages/sklearn/model_selection/_validation.py\", line 888, in _fit_and_score\n    estimator.fit(X_train, y_train, **fit_params)\n  File \"/usr/local/lib/python3.10/dist-packages/sklearn/base.py\", line 1473, in wrapper\n    return fit_method(estimator, *args, **kwargs)\n  File \"/usr/local/lib/python3.10/dist-packages/sklearn/neighbors/_classification.py\", line 238, in fit\n    return self._fit(X, y)\n  File \"/usr/local/lib/python3.10/dist-packages/sklearn/neighbors/_base.py\", line 475, in _fit\n    X, y = self._validate_data(\n  File \"/usr/local/lib/python3.10/dist-packages/sklearn/base.py\", line 650, in _validate_data\n    X, y = check_X_y(X, y, **check_params)\n  File \"/usr/local/lib/python3.10/dist-packages/sklearn/utils/validation.py\", line 1301, in check_X_y\n    X = check_array(\n  File \"/usr/local/lib/python3.10/dist-packages/sklearn/utils/validation.py\", line 1064, in check_array\n    _assert_all_finite(\n  File \"/usr/local/lib/python3.10/dist-packages/sklearn/utils/validation.py\", line 123, in _assert_all_finite\n    _assert_all_finite_element_wise(\n  File \"/usr/local/lib/python3.10/dist-packages/sklearn/utils/validation.py\", line 172, in _assert_all_finite_element_wise\n    raise ValueError(msg_err)\nValueError: Input X contains NaN.\nKNeighborsClassifier does not accept missing values encoded as NaN natively. For supervised learning, you might want to consider sklearn.ensemble.HistGradientBoostingClassifier and Regressor which accept missing values encoded as NaNs natively. Alternatively, it is possible to preprocess the data, for instance by using an imputer transformer in a pipeline or drop samples with missing values. See https://scikit-learn.org/stable/modules/impute.html You can find a list of all estimators that handle NaN values at the following page: https://scikit-learn.org/stable/modules/impute.html#estimators-that-handle-nan-values\n"
          ]
        }
      ]
    },
    {
      "cell_type": "code",
      "source": [
        "# Results DataFrame\n",
        "results_df = pd.DataFrame(results)\n",
        "print(results_df)"
      ],
      "metadata": {
        "colab": {
          "base_uri": "https://localhost:8080/"
        },
        "id": "17ABVzccdHtE",
        "outputId": "d9caf6d6-1c52-4da6-f376-06d4914f1955"
      },
      "execution_count": null,
      "outputs": [
        {
          "output_type": "stream",
          "name": "stdout",
          "text": [
            "                  Model  Folds  Accuracy (%)  Precision (%)  Recall (%)  \\\n",
            "0                   KNN      5         81.79          82.19       77.99   \n",
            "1                   KNN     10         79.47          80.25       74.40   \n",
            "2                   SVM      5         81.80          83.36       75.85   \n",
            "3                   SVM     10         82.49          84.07       77.36   \n",
            "4           Naive Bayes      5         83.48          84.46       78.76   \n",
            "5           Naive Bayes     10         83.17          84.56       78.02   \n",
            "6         Random Forest      5         80.46          80.39       76.56   \n",
            "7         Random Forest     10         81.84          84.02       75.88   \n",
            "8   Logistic Regression      5         82.80          84.06       77.28   \n",
            "9   Logistic Regression     10         83.16          84.35       78.79   \n",
            "10    Gradient Boosting      5         81.12          80.82       77.22   \n",
            "11    Gradient Boosting     10         77.41          77.66       75.05   \n",
            "\n",
            "    F1 Score (%)  \n",
            "0          79.80  \n",
            "1          76.90  \n",
            "2          79.22  \n",
            "3          80.14  \n",
            "4          81.41  \n",
            "5          80.79  \n",
            "6          78.26  \n",
            "7          79.25  \n",
            "8          80.43  \n",
            "9          81.12  \n",
            "10         78.77  \n",
            "11         75.25  \n"
          ]
        }
      ]
    },
    {
      "cell_type": "code",
      "source": [
        "# Visualize results\n",
        "import seaborn as sns\n",
        "import matplotlib.pyplot as plt"
      ],
      "metadata": {
        "id": "oa6-UX_mdQZn"
      },
      "execution_count": null,
      "outputs": []
    },
    {
      "cell_type": "code",
      "source": [
        "plt.figure(figsize=(10, 6))\n",
        "sns.barplot(data=results_df, x=\"Model\", y=\"F1 Score (%)\", hue=\"Folds\")\n",
        "plt.title(\"Model Performance Comparison\")\n",
        "plt.ylabel(\"F1 Score (%)\")\n",
        "plt.xlabel(\"Models\")\n",
        "plt.legend(title=\"Cross-Validation Folds\")\n",
        "plt.xticks(rotation=45)\n",
        "plt.show()"
      ],
      "metadata": {
        "colab": {
          "base_uri": "https://localhost:8080/",
          "height": 654
        },
        "id": "4i8_5J7rdTsP",
        "outputId": "fda135dd-8145-40fe-ecd9-bc77aca2e637"
      },
      "execution_count": null,
      "outputs": [
        {
          "output_type": "display_data",
          "data": {
            "text/plain": [
              "<Figure size 1000x600 with 1 Axes>"
            ],
            "image/png": "[encoded data removed]"
          },
          "metadata": {}
        }
      ]
    },
    {
      "cell_type": "code",
      "source": [
        "plt.figure(figsize=(10, 6))\n",
        "sns.barplot(data=results_df, x=\"Model\", y=\"Accuracy (%)\", hue=\"Folds\")\n",
        "plt.title(\"Model Performance Comparison\")\n",
        "plt.ylabel(\"Accuracy (%)\")\n",
        "plt.xlabel(\"Models\")\n",
        "plt.legend(title=\"Cross-Validation Folds\")\n",
        "plt.xticks(rotation=45)\n",
        "plt.show()"
      ],
      "metadata": {
        "colab": {
          "base_uri": "https://localhost:8080/",
          "height": 654
        },
        "id": "QUArlnr9j4pX",
        "outputId": "7c57c0cc-cf4a-4ff0-b299-8b809c80e76b"
      },
      "execution_count": null,
      "outputs": [
        {
          "output_type": "display_data",
          "data": {
            "text/plain": [
              "<Figure size 1000x600 with 1 Axes>"
            ],
            "image/png": "[encoded data removed]"
          },
          "metadata": {}
        }
      ]
    },
    {
      "cell_type": "code",
      "source": [
        "!pip install ucimlrepo\n",
        "from ucimlrepo import fetch_ucirepo, list_available_datasets\n",
        "# check which datasets can be imported\n",
        "list_available_datasets()\n",
        "\n",
        "# import dataset\n",
        "heart_disease = fetch_ucirepo(id=45)\n",
        "# alternatively: fetch_ucirepo(name='Heart Disease')\n",
        "\n",
        "# access data\n",
        "X = heart_disease.data.features\n",
        "y = heart_disease.data.targets\n",
        "# train model e.g. sklearn.linear_model.LinearRegression().fit(X, y)\n",
        "\n",
        "# access metadata\n",
        "print(heart_disease.metadata.uci_id)\n",
        "print(heart_disease.metadata.num_instances)\n",
        "print(heart_disease.metadata.additional_info.summary)\n",
        "\n",
        "# access variable info in tabular format\n",
        "print(heart_disease.variables)"
      ],
      "metadata": {
        "colab": {
          "base_uri": "https://localhost:8080/"
        },
        "id": "YrhBvEBldgOh",
        "outputId": "514b1797-a9c7-4961-c4cf-a9b7aa04e4ea"
      },
      "execution_count": null,
      "outputs": [
        {
          "output_type": "stream",
          "name": "stdout",
          "text": [
            "Collecting ucimlrepo\n",
            "  Downloading ucimlrepo-0.0.7-py3-none-any.whl.metadata (5.5 kB)\n",
            "Requirement already satisfied: pandas>=1.0.0 in /usr/local/lib/python3.10/dist-packages (from ucimlrepo) (2.2.2)\n",
            "Requirement already satisfied: certifi>=2020.12.5 in /usr/local/lib/python3.10/dist-packages (from ucimlrepo) (2024.8.30)\n",
            "Requirement already satisfied: numpy>=1.22.4 in /usr/local/lib/python3.10/dist-packages (from pandas>=1.0.0->ucimlrepo) (1.26.4)\n",
            "Requirement already satisfied: python-dateutil>=2.8.2 in /usr/local/lib/python3.10/dist-packages (from pandas>=1.0.0->ucimlrepo) (2.8.2)\n",
            "Requirement already satisfied: pytz>=2020.1 in /usr/local/lib/python3.10/dist-packages (from pandas>=1.0.0->ucimlrepo) (2024.2)\n",
            "Requirement already satisfied: tzdata>=2022.7 in /usr/local/lib/python3.10/dist-packages (from pandas>=1.0.0->ucimlrepo) (2024.2)\n",
            "Requirement already satisfied: six>=1.5 in /usr/local/lib/python3.10/dist-packages (from python-dateutil>=2.8.2->pandas>=1.0.0->ucimlrepo) (1.16.0)\n",
            "Downloading ucimlrepo-0.0.7-py3-none-any.whl (8.0 kB)\n",
            "Installing collected packages: ucimlrepo\n",
            "Successfully installed ucimlrepo-0.0.7\n",
            "-------------------------------------\n",
            "The following datasets are available:\n",
            "-------------------------------------\n",
            "Dataset Name                                                                            ID    \n",
            "------------                                                                            --    \n",
            "Abalone                                                                                 1     \n",
            "Adult                                                                                   2     \n",
            "Annealing                                                                               3     \n",
            "Audiology (Standardized)                                                                8     \n",
            "Auto MPG                                                                                9     \n",
            "Automobile                                                                              10    \n",
            "Balance Scale                                                                           12    \n",
            "Balloons                                                                                13    \n",
            "Breast Cancer                                                                           14    \n",
            "Breast Cancer Wisconsin (Original)                                                      15    \n",
            "Breast Cancer Wisconsin (Prognostic)                                                    16    \n",
            "Breast Cancer Wisconsin (Diagnostic)                                                    17    \n",
            "Pittsburgh Bridges                                                                      18    \n",
            "Car Evaluation                                                                          19    \n",
            "Census Income                                                                           20    \n",
            "Chess (King-Rook vs. King-Pawn)                                                         22    \n",
            "Chess (King-Rook vs. King)                                                              23    \n",
            "Connect-4                                                                               26    \n",
            "Credit Approval                                                                         27    \n",
            "Japanese Credit Screening                                                               28    \n",
            "Computer Hardware                                                                       29    \n",
            "Contraceptive Method Choice                                                             30    \n",
            "Covertype                                                                               31    \n",
            "Cylinder Bands                                                                          32    \n",
            "Dermatology                                                                             33    \n",
            "Echocardiogram                                                                          38    \n",
            "Ecoli                                                                                   39    \n",
            "Flags                                                                                   40    \n",
            "Glass Identification                                                                    42    \n",
            "Haberman's Survival                                                                     43    \n",
            "Hayes-Roth                                                                              44    \n",
            "Heart Disease                                                                           45    \n",
            "Hepatitis                                                                               46    \n",
            "Horse Colic                                                                             47    \n",
            "Image Segmentation                                                                      50    \n",
            "Ionosphere                                                                              52    \n",
            "Iris                                                                                    53    \n",
            "ISOLET                                                                                  54    \n",
            "Lenses                                                                                  58    \n",
            "Letter Recognition                                                                      59    \n",
            "Liver Disorders                                                                         60    \n",
            "Lung Cancer                                                                             62    \n",
            "Lymphography                                                                            63    \n",
            "Molecular Biology (Splice-junction Gene Sequences)                                      69    \n",
            "MONK's Problems                                                                         70    \n",
            "Mushroom                                                                                73    \n",
            "Musk (Version 1)                                                                        74    \n",
            "Musk (Version 2)                                                                        75    \n",
            "Nursery                                                                                 76    \n",
            "Page Blocks Classification                                                              78    \n",
            "Optical Recognition of Handwritten Digits                                               80    \n",
            "Pen-Based Recognition of Handwritten Digits                                             81    \n",
            "Post-Operative Patient                                                                  82    \n",
            "Primary Tumor                                                                           83    \n",
            "Servo                                                                                   87    \n",
            "Shuttle Landing Control                                                                 88    \n",
            "Solar Flare                                                                             89    \n",
            "Soybean (Large)                                                                         90    \n",
            "Soybean (Small)                                                                         91    \n",
            "Challenger USA Space Shuttle O-Ring                                                     92    \n",
            "Spambase                                                                                94    \n",
            "SPECT Heart                                                                             95    \n",
            "SPECTF Heart                                                                            96    \n",
            "Tic-Tac-Toe Endgame                                                                     101   \n",
            "Congressional Voting Records                                                            105   \n",
            "Waveform Database Generator (Version 1)                                                 107   \n",
            "Wine                                                                                    109   \n",
            "Yeast                                                                                   110   \n",
            "Zoo                                                                                     111   \n",
            "US Census Data (1990)                                                                   116   \n",
            "Census-Income (KDD)                                                                     117   \n",
            "El Nino                                                                                 122   \n",
            "Statlog (Australian Credit Approval)                                                    143   \n",
            "Statlog (German Credit Data)                                                            144   \n",
            "Statlog (Heart)                                                                         145   \n",
            "Statlog (Landsat Satellite)                                                             146   \n",
            "Statlog (Image Segmentation)                                                            147   \n",
            "Statlog (Shuttle)                                                                       148   \n",
            "Statlog (Vehicle Silhouettes)                                                           149   \n",
            "Connectionist Bench (Sonar, Mines vs. Rocks)                                            151   \n",
            "Cloud                                                                                   155   \n",
            "Poker Hand                                                                              158   \n",
            "MAGIC Gamma Telescope                                                                   159   \n",
            "Mammographic Mass                                                                       161   \n",
            "Forest Fires                                                                            162   \n",
            "Concrete Compressive Strength                                                           165   \n",
            "Ozone Level Detection                                                                   172   \n",
            "Parkinsons                                                                              174   \n",
            "Blood Transfusion Service Center                                                        176   \n",
            "Communities and Crime                                                                   183   \n",
            "Acute Inflammations                                                                     184   \n",
            "Wine Quality                                                                            186   \n",
            "Parkinsons Telemonitoring                                                               189   \n",
            "Cardiotocography                                                                        193   \n",
            "Steel Plates Faults                                                                     198   \n",
            "Communities and Crime Unnormalized                                                      211   \n",
            "Vertebral Column                                                                        212   \n",
            "Bank Marketing                                                                          222   \n",
            "ILPD (Indian Liver Patient Dataset)                                                     225   \n",
            "Skin Segmentation                                                                       229   \n",
            "Individual Household Electric Power Consumption                                         235   \n",
            "Energy Efficiency                                                                       242   \n",
            "Fertility                                                                               244   \n",
            "ISTANBUL STOCK EXCHANGE                                                                 247   \n",
            "User Knowledge Modeling                                                                 257   \n",
            "EEG Eye State                                                                           264   \n",
            "Banknote Authentication                                                                 267   \n",
            "Gas Sensor Array Drift at Different Concentrations                                      270   \n",
            "Bike Sharing                                                                            275   \n",
            "Thoracic Surgery Data                                                                   277   \n",
            "Airfoil Self-Noise                                                                      291   \n",
            "Wholesale customers                                                                     292   \n",
            "Combined Cycle Power Plant                                                              294   \n",
            "Diabetes 130-US Hospitals for Years 1999-2008                                           296   \n",
            "Tennis Major Tournament Match Statistics                                                300   \n",
            "Dow Jones Index                                                                         312   \n",
            "Student Performance                                                                     320   \n",
            "Phishing Websites                                                                       327   \n",
            "Diabetic Retinopathy Debrecen                                                           329   \n",
            "Online News Popularity                                                                  332   \n",
            "Chronic Kidney Disease                                                                  336   \n",
            "Mice Protein Expression                                                                 342   \n",
            "Default of Credit Card Clients                                                          350   \n",
            "Online Retail                                                                           352   \n",
            "Occupancy Detection                                                                     357   \n",
            "Air Quality                                                                             360   \n",
            "Polish Companies Bankruptcy                                                             365   \n",
            "Dota2 Games Results                                                                     367   \n",
            "Facebook Metrics                                                                        368   \n",
            "HTRU2                                                                                   372   \n",
            "Drug Consumption (Quantified)                                                           373   \n",
            "Appliances Energy Prediction                                                            374   \n",
            "Website Phishing                                                                        379   \n",
            "YouTube Spam Collection                                                                 380   \n",
            "Beijing PM2.5                                                                           381   \n",
            "Cervical Cancer (Risk Factors)                                                          383   \n",
            "Stock Portfolio Performance                                                             390   \n",
            "Sales Transactions Weekly                                                               396   \n",
            "Daily Demand Forecasting Orders                                                         409   \n",
            "Autistic Spectrum Disorder Screening Data for Children                                  419   \n",
            "Autism Screening Adult                                                                  426   \n",
            "Absenteeism at work                                                                     445   \n",
            "Breast Cancer Coimbra                                                                   451   \n",
            "Drug Reviews (Druglib.com)                                                              461   \n",
            "Drug Reviews (Drugs.com)                                                                462   \n",
            "Superconductivty Data                                                                   464   \n",
            "Student Academics Performance                                                           467   \n",
            "Online Shoppers Purchasing Intention Dataset                                            468   \n",
            "Electrical Grid Stability Simulated Data                                                471   \n",
            "Real Estate Valuation                                                                   477   \n",
            "Travel Reviews                                                                          484   \n",
            "Travel Review Ratings                                                                   485   \n",
            "Facebook Live Sellers in Thailand                                                       488   \n",
            "Metro Interstate Traffic Volume                                                         492   \n",
            "Hepatitis C Virus (HCV) for Egyptian patients                                           503   \n",
            "Heart Failure Clinical Records                                                          519   \n",
            "Early Stage Diabetes Risk Prediction                                                    529   \n",
            "Pedestrians in Traffic                                                                  536   \n",
            "Cervical Cancer Behavior Risk                                                           537   \n",
            "Estimation of Obesity Levels Based On Eating Habits and Physical Condition              544   \n",
            "Rice (Cammeo and Osmancik)                                                              545   \n",
            "Algerian Forest Fires                                                                   547   \n",
            "Gas Turbine CO and NOx Emission Data Set                                                551   \n",
            "Apartment for Rent Classified                                                           555   \n",
            "Seoul Bike Sharing Demand                                                               560   \n",
            "Iranian Churn                                                                           563   \n",
            "Bone marrow transplant: children                                                        565   \n",
            "COVID-19 Surveillance                                                                   567   \n",
            "HCV data                                                                                571   \n",
            "Taiwanese Bankruptcy Prediction                                                         572   \n",
            "Myocardial infarction complications                                                     579   \n",
            "Student Performance on an Entrance Examination                                          582   \n",
            "Gender by Name                                                                          591   \n",
            "Productivity Prediction of Garment Employees                                            597   \n",
            "AI4I 2020 Predictive Maintenance Dataset                                                601   \n",
            "Dry Bean                                                                                602   \n",
            "In-Vehicle Coupon Recommendation                                                        603   \n",
            "Predict Students' Dropout and Academic Success                                          697   \n",
            "Auction Verification                                                                    713   \n",
            "NATICUSdroid (Android Permissions)                                                      722   \n",
            "Toxicity                                                                                728   \n",
            "DARWIN                                                                                  732   \n",
            "Accelerometer Gyro Mobile Phone                                                         755   \n",
            "Glioma Grading Clinical and Mutation Features                                           759   \n",
            "Multivariate Gait Data                                                                  760   \n",
            "Land Mines                                                                              763   \n",
            "Single Elder Home Monitoring: Gas and Position                                          799   \n",
            "Sepsis Survival Minimal Clinical Records                                                827   \n",
            "Secondary Mushroom                                                                      848   \n",
            "Power Consumption of Tetouan City                                                       849   \n",
            "Raisin                                                                                  850   \n",
            "Steel Industry Energy Consumption                                                       851   \n",
            "Higher Education Students Performance Evaluation                                        856   \n",
            "Risk Factor Prediction of Chronic Kidney Disease                                        857   \n",
            "Maternal Health Risk                                                                    863   \n",
            "Room Occupancy Estimation                                                               864   \n",
            "Cirrhosis Patient Survival Prediction                                                   878   \n",
            "SUPPORT2                                                                                880   \n",
            "National Health and Nutrition Health Survey 2013-2014 (NHANES) Age Prediction Subset    887   \n",
            "AIDS Clinical Trials Group Study 175                                                    890   \n",
            "CDC Diabetes Health Indicators                                                          891   \n",
            "Recipe Reviews and User Feedback                                                        911   \n",
            "Forty Soybean Cultivars from Subsequent Harvests                                        913   \n",
            "Differentiated Thyroid Cancer Recurrence                                                915   \n",
            "Infrared Thermography Temperature                                                       925   \n",
            "National Poll on Healthy Aging (NPHA)                                                   936   \n",
            "Regensburg Pediatric Appendicitis                                                       938   \n",
            "RT-IoT2022                                                                              942   \n",
            "PhiUSIIL Phishing URL (Website)                                                         967   \n",
            "\n",
            "45\n",
            "303\n",
            "This database contains 76 attributes, but all published experiments refer to using a subset of 14 of them.  In particular, the Cleveland database is the only one that has been used by ML researchers to date.  The \"goal\" field refers to the presence of heart disease in the patient.  It is integer valued from 0 (no presence) to 4. Experiments with the Cleveland database have concentrated on simply attempting to distinguish presence (values 1,2,3,4) from absence (value 0).  \n",
            "   \n",
            "The names and social security numbers of the patients were recently removed from the database, replaced with dummy values.\n",
            "\n",
            "One file has been \"processed\", that one containing the Cleveland database.  All four unprocessed files also exist in this directory.\n",
            "\n",
            "To see Test Costs (donated by Peter Turney), please see the folder \"Costs\" \n",
            "        name     role         type demographic  \\\n",
            "0        age  Feature      Integer         Age   \n",
            "1        sex  Feature  Categorical         Sex   \n",
            "2         cp  Feature  Categorical        None   \n",
            "3   trestbps  Feature      Integer        None   \n",
            "4       chol  Feature      Integer        None   \n",
            "5        fbs  Feature  Categorical        None   \n",
            "6    restecg  Feature  Categorical        None   \n",
            "7    thalach  Feature      Integer        None   \n",
            "8      exang  Feature  Categorical        None   \n",
            "9    oldpeak  Feature      Integer        None   \n",
            "10     slope  Feature  Categorical        None   \n",
            "11        ca  Feature      Integer        None   \n",
            "12      thal  Feature  Categorical        None   \n",
            "13       num   Target      Integer        None   \n",
            "\n",
            "                                          description  units missing_values  \n",
            "0                                                None  years             no  \n",
            "1                                                None   None             no  \n",
            "2                                                None   None             no  \n",
            "3   resting blood pressure (on admission to the ho...  mm Hg             no  \n",
            "4                                   serum cholestoral  mg/dl             no  \n",
            "5                     fasting blood sugar > 120 mg/dl   None             no  \n",
            "6                                                None   None             no  \n",
            "7                         maximum heart rate achieved   None             no  \n",
            "8                             exercise induced angina   None             no  \n",
            "9   ST depression induced by exercise relative to ...   None             no  \n",
            "10                                               None   None             no  \n",
            "11  number of major vessels (0-3) colored by flour...   None            yes  \n",
            "12                                               None   None            yes  \n",
            "13                         diagnosis of heart disease   None             no  \n"
          ]
        }
      ]
    },
    {
      "cell_type": "code",
      "source": [
        "import pandas as pd\n",
        "import numpy as np\n",
        "import matplotlib.pyplot as plt\n",
        "import seaborn as sns\n",
        "from sklearn.compose import ColumnTransformer\n",
        "from sklearn.preprocessing import MinMaxScaler, FunctionTransformer\n",
        "from sklearn.pipeline import Pipeline"
      ],
      "metadata": {
        "id": "rPISzQC4w7e1"
      },
      "execution_count": null,
      "outputs": []
    },
    {
      "cell_type": "code",
      "source": [
        "def perform_eda(data):\n",
        "    print(\"Dataset Information:\")\n",
        "    print(data.info())\n",
        "    print(\"\\nBasic Statistics:\")\n",
        "    print(data.describe())"
      ],
      "metadata": {
        "id": "i6r2CrUExFRU"
      },
      "execution_count": null,
      "outputs": []
    },
    {
      "cell_type": "code",
      "source": [
        "# Univariate Analysis\n",
        "def create_univariate_plots(data):\n",
        "    plt.figure(figsize=(12, 8))\n",
        "    for i, col in enumerate(data.columns[:-1], start=1):\n",
        "        plt.subplot(4, 4, i)\n",
        "        sns.histplot(data[col], kde=True, bins=30)\n",
        "        plt.title(f\"Distribution of {col}\")\n",
        "    plt.tight_layout()\n",
        "    plt.show()"
      ],
      "metadata": {
        "id": "E08xtkTexPEA"
      },
      "execution_count": null,
      "outputs": []
    },
    {
      "cell_type": "code",
      "source": [
        "# Correlation Heatmap\n",
        "def create_correlation_heatmap(data):\n",
        "    plt.figure(figsize=(10, 6))\n",
        "    corr_matrix = data.corr()\n",
        "    sns.heatmap(corr_matrix, annot=True, fmt=\".2f\", cmap=\"coolwarm\")\n",
        "    plt.title(\"Correlation Heatmap\")\n",
        "    plt.show()"
      ],
      "metadata": {
        "id": "xl-r08NhxcVp"
      },
      "execution_count": null,
      "outputs": []
    },
    {
      "cell_type": "code",
      "source": [
        " # Bivariate Analysis: Target vs Features\n",
        " def create_bivariate_plots(data):\n",
        "    plt.figure(figsize=(12, 8))\n",
        "    for i, col in enumerate(data.columns[:-1], start=1):\n",
        "        plt.subplot(4, 4, i)\n",
        "        sns.boxplot(x=data[\"target\"], y=data[col], palette=\"Set2\")\n",
        "        plt.title(f\"Target vs {col}\")\n",
        "    plt.tight_layout()\n",
        "    plt.show()\n"
      ],
      "metadata": {
        "id": "jD23rbEZxkXt"
      },
      "execution_count": null,
      "outputs": []
    },
    {
      "cell_type": "code",
      "source": [
        "perform_eda(data)"
      ],
      "metadata": {
        "colab": {
          "base_uri": "https://localhost:8080/"
        },
        "id": "JNDzaYrUxyAE",
        "outputId": "b866417f-a089-4639-9247-b71e50901c23"
      },
      "execution_count": null,
      "outputs": [
        {
          "output_type": "stream",
          "name": "stdout",
          "text": [
            "Dataset Information:\n",
            "<class 'pandas.core.frame.DataFrame'>\n",
            "Index: 297 entries, 0 to 301\n",
            "Data columns (total 14 columns):\n",
            " #   Column    Non-Null Count  Dtype  \n",
            "---  ------    --------------  -----  \n",
            " 0   age       297 non-null    float64\n",
            " 1   sex       297 non-null    float64\n",
            " 2   cp        297 non-null    float64\n",
            " 3   trestbps  297 non-null    float64\n",
            " 4   chol      297 non-null    float64\n",
            " 5   fbs       297 non-null    float64\n",
            " 6   restecg   297 non-null    float64\n",
            " 7   thalach   297 non-null    float64\n",
            " 8   exang     297 non-null    float64\n",
            " 9   oldpeak   297 non-null    float64\n",
            " 10  slope     297 non-null    float64\n",
            " 11  ca        297 non-null    float64\n",
            " 12  thal      297 non-null    float64\n",
            " 13  target    297 non-null    int64  \n",
            "dtypes: float64(13), int64(1)\n",
            "memory usage: 34.8 KB\n",
            "None\n",
            "\n",
            "Basic Statistics:\n",
            "              age         sex          cp    trestbps        chol         fbs  \\\n",
            "count  297.000000  297.000000  297.000000  297.000000  297.000000  297.000000   \n",
            "mean    54.542088    0.676768    3.158249  131.693603  247.350168    0.144781   \n",
            "std      9.049736    0.468500    0.964859   17.762806   51.997583    0.352474   \n",
            "min     29.000000    0.000000    1.000000   94.000000  126.000000    0.000000   \n",
            "25%     48.000000    0.000000    3.000000  120.000000  211.000000    0.000000   \n",
            "50%     56.000000    1.000000    3.000000  130.000000  243.000000    0.000000   \n",
            "75%     61.000000    1.000000    4.000000  140.000000  276.000000    0.000000   \n",
            "max     77.000000    1.000000    4.000000  200.000000  564.000000    1.000000   \n",
            "\n",
            "          restecg     thalach       exang     oldpeak       slope          ca  \\\n",
            "count  297.000000  297.000000  297.000000  297.000000  297.000000  297.000000   \n",
            "mean     0.996633  149.599327    0.326599    1.055556    1.602694    0.676768   \n",
            "std      0.994914   22.941562    0.469761    1.166123    0.618187    0.938965   \n",
            "min      0.000000   71.000000    0.000000    0.000000    1.000000    0.000000   \n",
            "25%      0.000000  133.000000    0.000000    0.000000    1.000000    0.000000   \n",
            "50%      1.000000  153.000000    0.000000    0.800000    2.000000    0.000000   \n",
            "75%      2.000000  166.000000    1.000000    1.600000    2.000000    1.000000   \n",
            "max      2.000000  202.000000    1.000000    6.200000    3.000000    3.000000   \n",
            "\n",
            "             thal      target  \n",
            "count  297.000000  297.000000  \n",
            "mean     4.730640    0.946128  \n",
            "std      1.938629    1.234551  \n",
            "min      3.000000    0.000000  \n",
            "25%      3.000000    0.000000  \n",
            "50%      3.000000    0.000000  \n",
            "75%      7.000000    2.000000  \n",
            "max      7.000000    4.000000  \n"
          ]
        }
      ]
    },
    {
      "cell_type": "code",
      "source": [
        "scaler = MinMaxScaler()\n",
        "custom_transformer = FunctionTransformer(np.log1p, validate=True)  # Example of a custom transformation\n",
        "preprocessor = ColumnTransformer(\n",
        "    transformers=[\n",
        "        (\"scaler\", scaler, X.columns),\n",
        "        (\"custom_transform\", custom_transformer, [\"chol\", \"trestbps\"]),  # Apply log transformation to specific columns\n",
        "    ],\n",
        "    remainder=\"passthrough\"  # Keep other columns as is\n",
        ")\n"
      ],
      "metadata": {
        "id": "CaygvNtPx3-J"
      },
      "execution_count": null,
      "outputs": []
    },
    {
      "cell_type": "code",
      "source": [
        "# Combine Preprocessing Steps into a Pipeline\n",
        "pipeline = Pipeline(steps=[\n",
        "    (\"preprocessing\", preprocessor),\n",
        "])\n",
        "\n",
        "# Preprocess features\n",
        "X_preprocessed = pipeline.fit_transform(X)\n"
      ],
      "metadata": {
        "id": "0KuwA1V2x_uH"
      },
      "execution_count": null,
      "outputs": []
    },
    {
      "cell_type": "code",
      "source": [
        "# Display Processed Data\n",
        "print(\"\\nPreprocessed Features (First 5 rows):\")\n",
        "\n",
        "# Get column names after transformation\n",
        "# Assuming 'scaler' and 'custom_transform' are your transformer names\n",
        "transformed_col_names = pipeline.named_steps['preprocessing'].transformers_[0][2]  # Get scaled column names\n",
        "transformed_col_names = list(transformed_col_names)  # Convert to a list if it's not already\n",
        "transformed_col_names.extend(pipeline.named_steps['preprocessing'].transformers_[1][2]) # Add custom transformed column names\n",
        "\n",
        "# Create a DataFrame with the correct column names\n",
        "print(pd.DataFrame(X_preprocessed, columns=transformed_col_names).head())\n"
      ],
      "metadata": {
        "colab": {
          "base_uri": "https://localhost:8080/"
        },
        "id": "VER_Oj3zyDOm",
        "outputId": "2d84e94a-bc29-429d-d0a9-58f802a19329"
      },
      "execution_count": null,
      "outputs": [
        {
          "output_type": "stream",
          "name": "stdout",
          "text": [
            "\n",
            "Preprocessed Features (First 5 rows):\n",
            "        age  sex        cp  trestbps      chol  fbs  restecg   thalach  exang  \\\n",
            "0  0.708333  1.0  0.000000  0.481132  0.244292  1.0      1.0  0.603053    0.0   \n",
            "1  0.791667  1.0  1.000000  0.622642  0.365297  0.0      1.0  0.282443    1.0   \n",
            "2  0.791667  1.0  1.000000  0.245283  0.235160  0.0      1.0  0.442748    1.0   \n",
            "3  0.166667  1.0  0.666667  0.339623  0.283105  0.0      0.0  0.885496    0.0   \n",
            "4  0.250000  0.0  0.333333  0.339623  0.178082  0.0      1.0  0.770992    0.0   \n",
            "\n",
            "    oldpeak  slope        ca  thal      chol  trestbps  \n",
            "0  0.370968    1.0  0.000000  0.75  5.455321  4.983607  \n",
            "1  0.241935    0.5  1.000000  0.00  5.659482  5.081404  \n",
            "2  0.419355    0.5  0.666667  1.00  5.438079  4.795791  \n",
            "3  0.564516    1.0  0.000000  0.00  5.525453  4.875197  \n",
            "4  0.225806    0.0  0.000000  0.00  5.323010  4.875197  \n"
          ]
        }
      ]
    }
  ]
}